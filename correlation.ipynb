{
 "cells": [
  {
   "cell_type": "code",
   "execution_count": 1,
   "id": "9710b10d-6cdf-42a2-83aa-28ee5a5f006d",
   "metadata": {},
   "outputs": [],
   "source": [
    "import pandas as pd\n",
    "import numpy as np\n",
    "import scipy.stats as st\n",
    "import os\n"
   ]
  },
  {
   "cell_type": "code",
   "execution_count": 7,
   "id": "765866eb-c383-4afa-9bdc-387f3c21ff10",
   "metadata": {},
   "outputs": [
    {
     "name": "stdout",
     "output_type": "stream",
     "text": [
      "--2024-08-06 11:24:45--  https://raw.githubusercontent.com/stefannae/SIC-Artificial-Intelligence/main/SIC_AI_Coding_Exercises/SIC_AI_Chapter_04_Coding_Exercises/data_iris.csv\n",
      "Resolving raw.githubusercontent.com (raw.githubusercontent.com)... 2606:50c0:8000::154, 2606:50c0:8003::154, 2606:50c0:8001::154, ...\n",
      "Connecting to raw.githubusercontent.com (raw.githubusercontent.com)|2606:50c0:8000::154|:443... connected.\n",
      "HTTP request sent, awaiting response... 200 OK\n",
      "Length: 3867 (3.8K) [text/plain]\n",
      "Saving to: ‘data_iris.csv’\n",
      "\n",
      "data_iris.csv       100%[===================>]   3.78K  --.-KB/s    in 0s      \n",
      "\n",
      "2024-08-06 11:24:46 (78.6 MB/s) - ‘data_iris.csv’ saved [3867/3867]\n",
      "\n"
     ]
    }
   ],
   "source": [
    "!wget --no-clobber https://raw.githubusercontent.com/stefannae/SIC-Artificial-Intelligence/main/SIC_AI_Coding_Exercises/SIC_AI_Chapter_04_Coding_Exercises/data_iris.csv"
   ]
  },
  {
   "cell_type": "code",
   "execution_count": 9,
   "id": "54ae00c1-3370-4c5b-9381-3f935699a6d0",
   "metadata": {},
   "outputs": [],
   "source": [
    "# Read in the data.\n",
    "df = pd.read_csv('data_iris.csv', header='infer')"
   ]
  },
  {
   "cell_type": "code",
   "execution_count": 11,
   "id": "8e4e598c-7b79-4c2f-bfd1-cf319a3ce917",
   "metadata": {},
   "outputs": [
    {
     "data": {
      "text/plain": [
       "(150, 5)"
      ]
     },
     "execution_count": 11,
     "metadata": {},
     "output_type": "execute_result"
    }
   ],
   "source": [
    " df.shape"
   ]
  },
  {
   "cell_type": "code",
   "execution_count": 13,
   "id": "5a479ccf-6a4e-4834-9d2d-dfe45c43cf27",
   "metadata": {},
   "outputs": [
    {
     "data": {
      "text/html": [
       "<div>\n",
       "<style scoped>\n",
       "    .dataframe tbody tr th:only-of-type {\n",
       "        vertical-align: middle;\n",
       "    }\n",
       "\n",
       "    .dataframe tbody tr th {\n",
       "        vertical-align: top;\n",
       "    }\n",
       "\n",
       "    .dataframe thead th {\n",
       "        text-align: right;\n",
       "    }\n",
       "</style>\n",
       "<table border=\"1\" class=\"dataframe\">\n",
       "  <thead>\n",
       "    <tr style=\"text-align: right;\">\n",
       "      <th></th>\n",
       "      <th>Sepal.Length</th>\n",
       "      <th>Sepal.Width</th>\n",
       "      <th>Petal.Length</th>\n",
       "      <th>Petal.Width</th>\n",
       "      <th>Species</th>\n",
       "    </tr>\n",
       "  </thead>\n",
       "  <tbody>\n",
       "    <tr>\n",
       "      <th>0</th>\n",
       "      <td>5.1</td>\n",
       "      <td>3.5</td>\n",
       "      <td>1.4</td>\n",
       "      <td>0.2</td>\n",
       "      <td>setosa</td>\n",
       "    </tr>\n",
       "    <tr>\n",
       "      <th>1</th>\n",
       "      <td>4.9</td>\n",
       "      <td>3.0</td>\n",
       "      <td>1.4</td>\n",
       "      <td>0.2</td>\n",
       "      <td>setosa</td>\n",
       "    </tr>\n",
       "    <tr>\n",
       "      <th>2</th>\n",
       "      <td>4.7</td>\n",
       "      <td>3.2</td>\n",
       "      <td>1.3</td>\n",
       "      <td>0.2</td>\n",
       "      <td>setosa</td>\n",
       "    </tr>\n",
       "  </tbody>\n",
       "</table>\n",
       "</div>"
      ],
      "text/plain": [
       "   Sepal.Length  Sepal.Width  Petal.Length  Petal.Width Species\n",
       "0           5.1          3.5           1.4          0.2  setosa\n",
       "1           4.9          3.0           1.4          0.2  setosa\n",
       "2           4.7          3.2           1.3          0.2  setosa"
      ]
     },
     "execution_count": 13,
     "metadata": {},
     "output_type": "execute_result"
    }
   ],
   "source": [
    "df.head(3)"
   ]
  },
  {
   "cell_type": "code",
   "execution_count": 15,
   "id": "a3cd71b7-edc8-46d4-be0e-774c11afb322",
   "metadata": {},
   "outputs": [],
   "source": [
    " # Set aside two variables.\n",
    "x = df['Petal.Length']\n",
    "y = df['Sepal.Length']\n"
   ]
  },
  {
   "cell_type": "code",
   "execution_count": 17,
   "id": "30bdc386-2092-45db-a865-1c6c2b345524",
   "metadata": {},
   "outputs": [
    {
     "data": {
      "text/plain": [
       "array([0.872, 0.   ])"
      ]
     },
     "execution_count": 17,
     "metadata": {},
     "output_type": "execute_result"
    }
   ],
   "source": [
    " # Using the SciPy function.\n",
    "# Correlation and p-value.\n",
    "np.round(st.pearsonr(x,y),3)\n"
   ]
  },
  {
   "cell_type": "code",
   "execution_count": 19,
   "id": "4186867a-ab8a-4580-9815-ec46fa5d7518",
   "metadata": {},
   "outputs": [
    {
     "data": {
      "text/plain": [
       "0.8717537758865832"
      ]
     },
     "execution_count": 19,
     "metadata": {},
     "output_type": "execute_result"
    }
   ],
   "source": [
    "# Using the Pandas function.\n",
    "x.corr(y)"
   ]
  },
  {
   "cell_type": "code",
   "execution_count": 27,
   "id": "cb4c3b31-1f8f-4da0-9247-bad9dd126594",
   "metadata": {},
   "outputs": [],
   "source": [
    " # Correlation array.\n",
    "# np.round(df.corr(),3)\n"
   ]
  },
  {
   "cell_type": "code",
   "execution_count": 23,
   "id": "d5a44eab-394d-4fc2-90da-2fc3686091fd",
   "metadata": {},
   "outputs": [
    {
     "data": {
      "text/plain": [
       "array([0.882, 0.   ])"
      ]
     },
     "execution_count": 23,
     "metadata": {},
     "output_type": "execute_result"
    }
   ],
   "source": [
    " # Using the SciPy function.\n",
    "# Correlation and p-value.\n",
    "np.round(st.spearmanr(x,y),3)\n"
   ]
  },
  {
   "cell_type": "code",
   "execution_count": 29,
   "id": "736f2723-324b-4cf8-b0cc-718a0ac444e5",
   "metadata": {},
   "outputs": [
    {
     "data": {
      "text/plain": [
       "array([0.719, 0.   ])"
      ]
     },
     "execution_count": 29,
     "metadata": {},
     "output_type": "execute_result"
    }
   ],
   "source": [
    " # Using the SciPy function.\n",
    "# Correlation and p-value.\n",
    "np.round(st.kendalltau(x,y),3)"
   ]
  },
  {
   "cell_type": "code",
   "execution_count": 31,
   "id": "55071a5b-d188-4cbf-a10a-a87dcd840074",
   "metadata": {},
   "outputs": [
    {
     "name": "stdout",
     "output_type": "stream",
     "text": [
      "--2024-08-06 11:27:39--  https://raw.githubusercontent.com/stefannae/SIC-Artificial-Intelligence/main/SIC_AI_Coding_Exercises/SIC_AI_Chapter_04_Coding_Exercises/data_studentlist.csv\n",
      "Resolving raw.githubusercontent.com (raw.githubusercontent.com)... 2606:50c0:8001::154, 2606:50c0:8003::154, 2606:50c0:8000::154, ...\n",
      "Connecting to raw.githubusercontent.com (raw.githubusercontent.com)|2606:50c0:8001::154|:443... connected.\n",
      "HTTP request sent, awaiting response... 200 OK\n",
      "Length: 674 [text/plain]\n",
      "Saving to: ‘data_studentlist.csv’\n",
      "\n",
      "data_studentlist.cs 100%[===================>]     674  --.-KB/s    in 0s      \n",
      "\n",
      "2024-08-06 11:27:40 (60.5 MB/s) - ‘data_studentlist.csv’ saved [674/674]\n",
      "\n"
     ]
    }
   ],
   "source": [
    "!wget --no-clobber https://raw.githubusercontent.com/stefannae/SIC-Artificial-Intelligence/main/SIC_AI_Coding_Exercises/SIC_AI_Chapter_04_Coding_Exercises/data_studentlist.csv"
   ]
  },
  {
   "cell_type": "code",
   "execution_count": 33,
   "id": "9e9f51b7-0726-43d8-93b9-70c9c7c9f394",
   "metadata": {},
   "outputs": [],
   "source": [
    "# Read in another data set.\n",
    "df = pd.read_csv('data_studentlist.csv', header='infer')\n"
   ]
  },
  {
   "cell_type": "code",
   "execution_count": 35,
   "id": "586c7b5d-30c3-4665-9bfe-e39a43414bf3",
   "metadata": {},
   "outputs": [
    {
     "data": {
      "text/html": [
       "<div>\n",
       "<style scoped>\n",
       "    .dataframe tbody tr th:only-of-type {\n",
       "        vertical-align: middle;\n",
       "    }\n",
       "\n",
       "    .dataframe tbody tr th {\n",
       "        vertical-align: top;\n",
       "    }\n",
       "\n",
       "    .dataframe thead th {\n",
       "        text-align: right;\n",
       "    }\n",
       "</style>\n",
       "<table border=\"1\" class=\"dataframe\">\n",
       "  <thead>\n",
       "    <tr style=\"text-align: right;\">\n",
       "      <th></th>\n",
       "      <th>name</th>\n",
       "      <th>gender</th>\n",
       "      <th>age</th>\n",
       "      <th>grade</th>\n",
       "      <th>absence</th>\n",
       "      <th>bloodtype</th>\n",
       "      <th>height</th>\n",
       "      <th>weight</th>\n",
       "    </tr>\n",
       "  </thead>\n",
       "  <tbody>\n",
       "    <tr>\n",
       "      <th>0</th>\n",
       "      <td>Jared Diamond</td>\n",
       "      <td>M</td>\n",
       "      <td>23</td>\n",
       "      <td>3</td>\n",
       "      <td>Y</td>\n",
       "      <td>O</td>\n",
       "      <td>165.3</td>\n",
       "      <td>68.2</td>\n",
       "    </tr>\n",
       "    <tr>\n",
       "      <th>1</th>\n",
       "      <td>Sarah O'Donnel</td>\n",
       "      <td>F</td>\n",
       "      <td>22</td>\n",
       "      <td>2</td>\n",
       "      <td>N</td>\n",
       "      <td>AB</td>\n",
       "      <td>170.1</td>\n",
       "      <td>53.0</td>\n",
       "    </tr>\n",
       "    <tr>\n",
       "      <th>2</th>\n",
       "      <td>Brian Martin</td>\n",
       "      <td>M</td>\n",
       "      <td>24</td>\n",
       "      <td>4</td>\n",
       "      <td>N</td>\n",
       "      <td>B</td>\n",
       "      <td>175.0</td>\n",
       "      <td>80.1</td>\n",
       "    </tr>\n",
       "  </tbody>\n",
       "</table>\n",
       "</div>"
      ],
      "text/plain": [
       "             name gender  age  grade absence bloodtype  height  weight\n",
       "0   Jared Diamond      M   23      3       Y         O   165.3    68.2\n",
       "1  Sarah O'Donnel      F   22      2       N        AB   170.1    53.0\n",
       "2    Brian Martin      M   24      4       N         B   175.0    80.1"
      ]
     },
     "execution_count": 35,
     "metadata": {},
     "output_type": "execute_result"
    }
   ],
   "source": [
    "df.head(3)\n"
   ]
  },
  {
   "cell_type": "code",
   "execution_count": 37,
   "id": "1363c7bb-9bb8-48a0-bbc8-dc02674c2a1f",
   "metadata": {},
   "outputs": [],
   "source": [
    " # Set aside two variables.\n",
    "x = df.height\n",
    "y = df.weight\n"
   ]
  },
  {
   "cell_type": "code",
   "execution_count": 39,
   "id": "a8aaae06-fe0e-4384-92a6-a433768867dc",
   "metadata": {},
   "outputs": [],
   "source": [
    "# Apply the Fisher's z-transformation.\n",
    "# See the lecture.\n",
    "n = len(x)\n",
    "r = x.corr(y)\n",
    "z = np.arctanh(r)\n",
    "std_error_z = 1/np.sqrt(n-3)"
   ]
  },
  {
   "cell_type": "code",
   "execution_count": 43,
   "id": "587fd309-e179-4bf6-adb8-fb3100ece3c7",
   "metadata": {},
   "outputs": [
    {
     "data": {
      "text/plain": [
       "{'low': 0.26960396330592235, 'high': 0.8677953581441814}"
      ]
     },
     "execution_count": 43,
     "metadata": {},
     "output_type": "execute_result"
    }
   ],
   "source": [
    "# 95% confidence interval.\n",
    "# Expressed as a dictionary object.\n",
    "{'low':np.tanh(z-st.norm.ppf(0.975)*std_error_z), 'high': np.tanh(z+st.norm.ppf(0.975)*std_error_z)}"
   ]
  },
  {
   "cell_type": "code",
   "execution_count": 45,
   "id": "07d854df-c87a-4acf-a07f-10e04e9d7f5b",
   "metadata": {},
   "outputs": [
    {
     "data": {
      "text/plain": [
       "{'low': 0.11137578298592958, 'high': 0.9030812794020874}"
      ]
     },
     "execution_count": 45,
     "metadata": {},
     "output_type": "execute_result"
    }
   ],
   "source": [
    " # 99% confidence interval.\n",
    "# Expressed as a dictionary object.\n",
    "{'low':np.tanh(z-st.norm.ppf(0.995)*std_error_z), 'high': np.tanh(z+st.norm.ppf(0.995)*std_error_z)}\n"
   ]
  },
  {
   "cell_type": "code",
   "execution_count": null,
   "id": "a32093e9-127e-4277-bb8e-6b0f952c8625",
   "metadata": {},
   "outputs": [],
   "source": []
  }
 ],
 "metadata": {
  "kernelspec": {
   "display_name": "Python 3 (ipykernel)",
   "language": "python",
   "name": "python3"
  },
  "language_info": {
   "codemirror_mode": {
    "name": "ipython",
    "version": 3
   },
   "file_extension": ".py",
   "mimetype": "text/x-python",
   "name": "python",
   "nbconvert_exporter": "python",
   "pygments_lexer": "ipython3",
   "version": "3.12.4"
  }
 },
 "nbformat": 4,
 "nbformat_minor": 5
}
